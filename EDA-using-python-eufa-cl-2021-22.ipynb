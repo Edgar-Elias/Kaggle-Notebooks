{
 "cells": [
  {
   "cell_type": "markdown",
   "id": "3b650b3e",
   "metadata": {
    "execution": {
     "iopub.execute_input": "2022-06-07T19:27:08.74295Z",
     "iopub.status.busy": "2022-06-07T19:27:08.742484Z",
     "iopub.status.idle": "2022-06-07T19:27:08.746867Z",
     "shell.execute_reply": "2022-06-07T19:27:08.746126Z",
     "shell.execute_reply.started": "2022-06-07T19:27:08.74291Z"
    },
    "papermill": {
     "duration": 0.012641,
     "end_time": "2022-06-18T00:01:05.047560",
     "exception": false,
     "start_time": "2022-06-18T00:01:05.034919",
     "status": "completed"
    },
    "tags": []
   },
   "source": [
    "# 1. Introduction"
   ]
  },
  {
   "cell_type": "markdown",
   "id": "85608e94",
   "metadata": {
    "papermill": {
     "duration": 0.010998,
     "end_time": "2022-06-18T00:01:05.070009",
     "exception": false,
     "start_time": "2022-06-18T00:01:05.059011",
     "status": "completed"
    },
    "tags": []
   },
   "source": [
    "I love soccer and my favorite team Real Madrid has the won UEFA Champions League for the 14th time in its history. In comemoration of their latest achievement and the road it takes to accomplish what many European Soccer Teams set out to do, lets do some exploratory work of the 2021-2022 EUFA Champions League Season."
   ]
  },
  {
   "cell_type": "markdown",
   "id": "2a741c15",
   "metadata": {
    "papermill": {
     "duration": 0.010966,
     "end_time": "2022-06-18T00:01:05.092282",
     "exception": false,
     "start_time": "2022-06-18T00:01:05.081316",
     "status": "completed"
    },
    "tags": []
   },
   "source": [
    "# 2. Import Observations and Initial Configuration"
   ]
  },
  {
   "cell_type": "code",
   "execution_count": 1,
   "id": "243b67ce",
   "metadata": {
    "execution": {
     "iopub.execute_input": "2022-06-18T00:01:05.116844Z",
     "iopub.status.busy": "2022-06-18T00:01:05.116339Z",
     "iopub.status.idle": "2022-06-18T00:01:07.916842Z",
     "shell.execute_reply": "2022-06-18T00:01:07.915959Z"
    },
    "papermill": {
     "duration": 2.815683,
     "end_time": "2022-06-18T00:01:07.919334",
     "exception": false,
     "start_time": "2022-06-18T00:01:05.103651",
     "status": "completed"
    },
    "tags": []
   },
   "outputs": [],
   "source": [
    "#Import Libraries\n",
    "\n",
    "import numpy as np \n",
    "import pandas as pd \n",
    "import seaborn as sns\n",
    "import matplotlib.pyplot as plt\n",
    "%matplotlib inline\n",
    "\n",
    "import plotly.graph_objs as go\n",
    "from plotly.offline import download_plotlyjs, init_notebook_mode, plot, iplot\n",
    "import plotly.express as px\n",
    "\n",
    "import squarify\n",
    "from sklearn import manifold\n"
   ]
  },
  {
   "cell_type": "markdown",
   "id": "1f1f98a9",
   "metadata": {
    "papermill": {
     "duration": 0.011534,
     "end_time": "2022-06-18T00:01:07.943276",
     "exception": false,
     "start_time": "2022-06-18T00:01:07.931742",
     "status": "completed"
    },
    "tags": []
   },
   "source": [
    "## Reading Data"
   ]
  },
  {
   "cell_type": "markdown",
   "id": "9e2377e3",
   "metadata": {
    "papermill": {
     "duration": 0.011318,
     "end_time": "2022-06-18T00:01:07.966336",
     "exception": false,
     "start_time": "2022-06-18T00:01:07.955018",
     "status": "completed"
    },
    "tags": []
   },
   "source": [
    "### Read and import datasets regarding key stats\n",
    "\n",
    "* attacking.csv : All attacking data.\n",
    "* attempts.csv : All attacking atttempts data.\n",
    "* defending.csv : All defensive and tackle data.\n",
    "* disciplinary.csv : All fouls and bookings data.\n",
    "* distributon.csv : All distribution and passing data.\n",
    "* goalkeeping.csv : All GK (saves, conceded goals, punches) data.\n",
    "* goals.csv : All goals data.\n",
    "* key_stats.csv : Overall stats of all players. <br>\n",
    "\n",
    "**All files contain stats by player name and clubs names**"
   ]
  },
  {
   "cell_type": "code",
   "execution_count": 2,
   "id": "c450c719",
   "metadata": {
    "execution": {
     "iopub.execute_input": "2022-06-18T00:01:07.992019Z",
     "iopub.status.busy": "2022-06-18T00:01:07.991035Z",
     "iopub.status.idle": "2022-06-18T00:01:08.097508Z",
     "shell.execute_reply": "2022-06-18T00:01:08.096667Z"
    },
    "papermill": {
     "duration": 0.121928,
     "end_time": "2022-06-18T00:01:08.099875",
     "exception": false,
     "start_time": "2022-06-18T00:01:07.977947",
     "status": "completed"
    },
    "tags": []
   },
   "outputs": [],
   "source": [
    "#Import data\n",
    "\n",
    "attacking = pd.read_csv(\"../input/ucl-202122-uefa-champions-league/attacking.csv\")\n",
    "attempts = pd.read_csv(\"../input/ucl-202122-uefa-champions-league/attempts.csv\")\n",
    "defending = pd.read_csv(\"../input/ucl-202122-uefa-champions-league/defending.csv\")\n",
    "disciplinary = pd.read_csv(\"../input/ucl-202122-uefa-champions-league/disciplinary.csv\")\n",
    "distribution = pd.read_csv(\"../input/ucl-202122-uefa-champions-league/distributon.csv\")\n",
    "goalkeeping = pd.read_csv(\"../input/ucl-202122-uefa-champions-league/goalkeeping.csv\")\n",
    "goals = pd.read_csv(\"../input/ucl-202122-uefa-champions-league/goals.csv\")\n",
    "key_stats = pd.read_csv(\"../input/ucl-202122-uefa-champions-league/key_stats.csv\")"
   ]
  },
  {
   "cell_type": "markdown",
   "id": "b5d711a4",
   "metadata": {
    "papermill": {
     "duration": 0.011349,
     "end_time": "2022-06-18T00:01:08.123325",
     "exception": false,
     "start_time": "2022-06-18T00:01:08.111976",
     "status": "completed"
    },
    "tags": []
   },
   "source": [
    "# 3. Insights and Analysis\n",
    "\n",
    "\n"
   ]
  },
  {
   "cell_type": "markdown",
   "id": "c33fbd32",
   "metadata": {
    "papermill": {
     "duration": 0.011374,
     "end_time": "2022-06-18T00:01:08.146200",
     "exception": false,
     "start_time": "2022-06-18T00:01:08.134826",
     "status": "completed"
    },
    "tags": []
   },
   "source": [
    "### Key Stats"
   ]
  },
  {
   "cell_type": "markdown",
   "id": "8f318d3b",
   "metadata": {
    "papermill": {
     "duration": 0.011242,
     "end_time": "2022-06-18T00:01:08.169095",
     "exception": false,
     "start_time": "2022-06-18T00:01:08.157853",
     "status": "completed"
    },
    "tags": []
   },
   "source": [
    "Quick glimpse of the data shows the key stats are compromised of player, club, position, minutes played, matches played, goals, assits and distance covered"
   ]
  },
  {
   "cell_type": "code",
   "execution_count": 3,
   "id": "b1c54a1f",
   "metadata": {
    "execution": {
     "iopub.execute_input": "2022-06-18T00:01:08.194072Z",
     "iopub.status.busy": "2022-06-18T00:01:08.193402Z",
     "iopub.status.idle": "2022-06-18T00:01:08.217877Z",
     "shell.execute_reply": "2022-06-18T00:01:08.216816Z"
    },
    "papermill": {
     "duration": 0.040095,
     "end_time": "2022-06-18T00:01:08.220660",
     "exception": false,
     "start_time": "2022-06-18T00:01:08.180565",
     "status": "completed"
    },
    "tags": []
   },
   "outputs": [
    {
     "data": {
      "text/html": [
       "<div>\n",
       "<style scoped>\n",
       "    .dataframe tbody tr th:only-of-type {\n",
       "        vertical-align: middle;\n",
       "    }\n",
       "\n",
       "    .dataframe tbody tr th {\n",
       "        vertical-align: top;\n",
       "    }\n",
       "\n",
       "    .dataframe thead th {\n",
       "        text-align: right;\n",
       "    }\n",
       "</style>\n",
       "<table border=\"1\" class=\"dataframe\">\n",
       "  <thead>\n",
       "    <tr style=\"text-align: right;\">\n",
       "      <th></th>\n",
       "      <th>player_name</th>\n",
       "      <th>club</th>\n",
       "      <th>position</th>\n",
       "      <th>minutes_played</th>\n",
       "      <th>match_played</th>\n",
       "      <th>goals</th>\n",
       "      <th>assists</th>\n",
       "      <th>distance_covered</th>\n",
       "    </tr>\n",
       "  </thead>\n",
       "  <tbody>\n",
       "    <tr>\n",
       "      <th>0</th>\n",
       "      <td>Courtois</td>\n",
       "      <td>Real Madrid</td>\n",
       "      <td>Goalkeeper</td>\n",
       "      <td>1230</td>\n",
       "      <td>13</td>\n",
       "      <td>0</td>\n",
       "      <td>0</td>\n",
       "      <td>64.2</td>\n",
       "    </tr>\n",
       "    <tr>\n",
       "      <th>1</th>\n",
       "      <td>Vinícius Júnior</td>\n",
       "      <td>Real Madrid</td>\n",
       "      <td>Forward</td>\n",
       "      <td>1199</td>\n",
       "      <td>13</td>\n",
       "      <td>4</td>\n",
       "      <td>6</td>\n",
       "      <td>133.0</td>\n",
       "    </tr>\n",
       "    <tr>\n",
       "      <th>2</th>\n",
       "      <td>Benzema</td>\n",
       "      <td>Real Madrid</td>\n",
       "      <td>Forward</td>\n",
       "      <td>1106</td>\n",
       "      <td>12</td>\n",
       "      <td>15</td>\n",
       "      <td>1</td>\n",
       "      <td>121.5</td>\n",
       "    </tr>\n",
       "    <tr>\n",
       "      <th>3</th>\n",
       "      <td>Modrić</td>\n",
       "      <td>Real Madrid</td>\n",
       "      <td>Midfielder</td>\n",
       "      <td>1077</td>\n",
       "      <td>13</td>\n",
       "      <td>0</td>\n",
       "      <td>4</td>\n",
       "      <td>124.5</td>\n",
       "    </tr>\n",
       "    <tr>\n",
       "      <th>4</th>\n",
       "      <td>Éder Militão</td>\n",
       "      <td>Real Madrid</td>\n",
       "      <td>Defender</td>\n",
       "      <td>1076</td>\n",
       "      <td>12</td>\n",
       "      <td>0</td>\n",
       "      <td>0</td>\n",
       "      <td>110.4</td>\n",
       "    </tr>\n",
       "    <tr>\n",
       "      <th>5</th>\n",
       "      <td>Alaba</td>\n",
       "      <td>Real Madrid</td>\n",
       "      <td>Defender</td>\n",
       "      <td>1040</td>\n",
       "      <td>12</td>\n",
       "      <td>1</td>\n",
       "      <td>0</td>\n",
       "      <td>112.3</td>\n",
       "    </tr>\n",
       "    <tr>\n",
       "      <th>6</th>\n",
       "      <td>Carvajal</td>\n",
       "      <td>Real Madrid</td>\n",
       "      <td>Defender</td>\n",
       "      <td>959</td>\n",
       "      <td>11</td>\n",
       "      <td>0</td>\n",
       "      <td>1</td>\n",
       "      <td>112.8</td>\n",
       "    </tr>\n",
       "    <tr>\n",
       "      <th>7</th>\n",
       "      <td>Casemiro</td>\n",
       "      <td>Real Madrid</td>\n",
       "      <td>Midfielder</td>\n",
       "      <td>914</td>\n",
       "      <td>11</td>\n",
       "      <td>0</td>\n",
       "      <td>0</td>\n",
       "      <td>107.6</td>\n",
       "    </tr>\n",
       "    <tr>\n",
       "      <th>8</th>\n",
       "      <td>Kroos</td>\n",
       "      <td>Real Madrid</td>\n",
       "      <td>Midfielder</td>\n",
       "      <td>902</td>\n",
       "      <td>12</td>\n",
       "      <td>2</td>\n",
       "      <td>0</td>\n",
       "      <td>116.5</td>\n",
       "    </tr>\n",
       "    <tr>\n",
       "      <th>9</th>\n",
       "      <td>Mendy</td>\n",
       "      <td>Real Madrid</td>\n",
       "      <td>Defender</td>\n",
       "      <td>867</td>\n",
       "      <td>10</td>\n",
       "      <td>0</td>\n",
       "      <td>2</td>\n",
       "      <td>96.3</td>\n",
       "    </tr>\n",
       "  </tbody>\n",
       "</table>\n",
       "</div>"
      ],
      "text/plain": [
       "       player_name         club    position  minutes_played  match_played  \\\n",
       "0         Courtois  Real Madrid  Goalkeeper            1230            13   \n",
       "1  Vinícius Júnior  Real Madrid     Forward            1199            13   \n",
       "2          Benzema  Real Madrid     Forward            1106            12   \n",
       "3           Modrić  Real Madrid  Midfielder            1077            13   \n",
       "4     Éder Militão  Real Madrid    Defender            1076            12   \n",
       "5            Alaba  Real Madrid    Defender            1040            12   \n",
       "6         Carvajal  Real Madrid    Defender             959            11   \n",
       "7         Casemiro  Real Madrid  Midfielder             914            11   \n",
       "8            Kroos  Real Madrid  Midfielder             902            12   \n",
       "9            Mendy  Real Madrid    Defender             867            10   \n",
       "\n",
       "   goals  assists distance_covered  \n",
       "0      0        0             64.2  \n",
       "1      4        6            133.0  \n",
       "2     15        1            121.5  \n",
       "3      0        4            124.5  \n",
       "4      0        0            110.4  \n",
       "5      1        0            112.3  \n",
       "6      0        1            112.8  \n",
       "7      0        0            107.6  \n",
       "8      2        0            116.5  \n",
       "9      0        2             96.3  "
      ]
     },
     "execution_count": 3,
     "metadata": {},
     "output_type": "execute_result"
    }
   ],
   "source": [
    "key_stats.head(10) # View first 10 rows"
   ]
  },
  {
   "cell_type": "code",
   "execution_count": 4,
   "id": "3532a4b3",
   "metadata": {
    "execution": {
     "iopub.execute_input": "2022-06-18T00:01:08.247274Z",
     "iopub.status.busy": "2022-06-18T00:01:08.246335Z",
     "iopub.status.idle": "2022-06-18T00:01:08.259930Z",
     "shell.execute_reply": "2022-06-18T00:01:08.258905Z"
    },
    "papermill": {
     "duration": 0.028942,
     "end_time": "2022-06-18T00:01:08.262167",
     "exception": false,
     "start_time": "2022-06-18T00:01:08.233225",
     "status": "completed"
    },
    "tags": []
   },
   "outputs": [
    {
     "data": {
      "text/html": [
       "<div>\n",
       "<style scoped>\n",
       "    .dataframe tbody tr th:only-of-type {\n",
       "        vertical-align: middle;\n",
       "    }\n",
       "\n",
       "    .dataframe tbody tr th {\n",
       "        vertical-align: top;\n",
       "    }\n",
       "\n",
       "    .dataframe thead th {\n",
       "        text-align: right;\n",
       "    }\n",
       "</style>\n",
       "<table border=\"1\" class=\"dataframe\">\n",
       "  <thead>\n",
       "    <tr style=\"text-align: right;\">\n",
       "      <th></th>\n",
       "      <th>player_name</th>\n",
       "      <th>club</th>\n",
       "      <th>position</th>\n",
       "      <th>minutes_played</th>\n",
       "      <th>match_played</th>\n",
       "      <th>goals</th>\n",
       "      <th>assists</th>\n",
       "      <th>distance_covered</th>\n",
       "    </tr>\n",
       "  </thead>\n",
       "  <tbody>\n",
       "    <tr>\n",
       "      <th>742</th>\n",
       "      <td>Gil Dias</td>\n",
       "      <td>Benfica</td>\n",
       "      <td>Midfielder</td>\n",
       "      <td>1</td>\n",
       "      <td>1</td>\n",
       "      <td>0</td>\n",
       "      <td>0</td>\n",
       "      <td>0.7</td>\n",
       "    </tr>\n",
       "    <tr>\n",
       "      <th>743</th>\n",
       "      <td>Rodrigo Ribeiro</td>\n",
       "      <td>Sporting CP</td>\n",
       "      <td>Forward</td>\n",
       "      <td>1</td>\n",
       "      <td>1</td>\n",
       "      <td>0</td>\n",
       "      <td>0</td>\n",
       "      <td>0.7</td>\n",
       "    </tr>\n",
       "    <tr>\n",
       "      <th>744</th>\n",
       "      <td>Cojocari</td>\n",
       "      <td>Sheriff</td>\n",
       "      <td>Defender</td>\n",
       "      <td>1</td>\n",
       "      <td>1</td>\n",
       "      <td>0</td>\n",
       "      <td>0</td>\n",
       "      <td>0.5</td>\n",
       "    </tr>\n",
       "    <tr>\n",
       "      <th>745</th>\n",
       "      <td>Maouassa</td>\n",
       "      <td>Club Brugge</td>\n",
       "      <td>Defender</td>\n",
       "      <td>1</td>\n",
       "      <td>1</td>\n",
       "      <td>0</td>\n",
       "      <td>0</td>\n",
       "      <td>0.2</td>\n",
       "    </tr>\n",
       "    <tr>\n",
       "      <th>746</th>\n",
       "      <td>Zesiger</td>\n",
       "      <td>Young Boys</td>\n",
       "      <td>Defender</td>\n",
       "      <td>1</td>\n",
       "      <td>1</td>\n",
       "      <td>0</td>\n",
       "      <td>0</td>\n",
       "      <td>-</td>\n",
       "    </tr>\n",
       "  </tbody>\n",
       "</table>\n",
       "</div>"
      ],
      "text/plain": [
       "         player_name         club    position  minutes_played  match_played  \\\n",
       "742         Gil Dias      Benfica  Midfielder               1             1   \n",
       "743  Rodrigo Ribeiro  Sporting CP     Forward               1             1   \n",
       "744         Cojocari      Sheriff    Defender               1             1   \n",
       "745         Maouassa  Club Brugge    Defender               1             1   \n",
       "746          Zesiger   Young Boys    Defender               1             1   \n",
       "\n",
       "     goals  assists distance_covered  \n",
       "742      0        0              0.7  \n",
       "743      0        0              0.7  \n",
       "744      0        0              0.5  \n",
       "745      0        0              0.2  \n",
       "746      0        0                -  "
      ]
     },
     "execution_count": 4,
     "metadata": {},
     "output_type": "execute_result"
    }
   ],
   "source": [
    "key_stats.tail() # View last 5 rows"
   ]
  },
  {
   "cell_type": "markdown",
   "id": "c77e3648",
   "metadata": {
    "papermill": {
     "duration": 0.012066,
     "end_time": "2022-06-18T00:01:08.286944",
     "exception": false,
     "start_time": "2022-06-18T00:01:08.274878",
     "status": "completed"
    },
    "tags": []
   },
   "source": [
    "Conitnuing the exploration and gathering insightful information to better understand the data\n",
    "\n",
    "* describe\n",
    "* shape\n",
    "* columns\n",
    "* unique values\n"
   ]
  },
  {
   "cell_type": "markdown",
   "id": "3107d910",
   "metadata": {
    "papermill": {
     "duration": 0.011826,
     "end_time": "2022-06-18T00:01:08.311068",
     "exception": false,
     "start_time": "2022-06-18T00:01:08.299242",
     "status": "completed"
    },
    "tags": []
   },
   "source": [
    "Data consists of 747 unique players with an average play time of 331 minutes along and an average number of played matches of 5 games. The average number of goals amongst all players is .49 along with an average of .37 assisted goals "
   ]
  },
  {
   "cell_type": "code",
   "execution_count": 5,
   "id": "52dac883",
   "metadata": {
    "execution": {
     "iopub.execute_input": "2022-06-18T00:01:08.337643Z",
     "iopub.status.busy": "2022-06-18T00:01:08.337226Z",
     "iopub.status.idle": "2022-06-18T00:01:08.376363Z",
     "shell.execute_reply": "2022-06-18T00:01:08.375589Z"
    },
    "papermill": {
     "duration": 0.054989,
     "end_time": "2022-06-18T00:01:08.378605",
     "exception": false,
     "start_time": "2022-06-18T00:01:08.323616",
     "status": "completed"
    },
    "tags": []
   },
   "outputs": [
    {
     "data": {
      "text/html": [
       "<div>\n",
       "<style scoped>\n",
       "    .dataframe tbody tr th:only-of-type {\n",
       "        vertical-align: middle;\n",
       "    }\n",
       "\n",
       "    .dataframe tbody tr th {\n",
       "        vertical-align: top;\n",
       "    }\n",
       "\n",
       "    .dataframe thead th {\n",
       "        text-align: right;\n",
       "    }\n",
       "</style>\n",
       "<table border=\"1\" class=\"dataframe\">\n",
       "  <thead>\n",
       "    <tr style=\"text-align: right;\">\n",
       "      <th></th>\n",
       "      <th>count</th>\n",
       "      <th>mean</th>\n",
       "      <th>std</th>\n",
       "      <th>min</th>\n",
       "      <th>25%</th>\n",
       "      <th>50%</th>\n",
       "      <th>75%</th>\n",
       "      <th>max</th>\n",
       "    </tr>\n",
       "  </thead>\n",
       "  <tbody>\n",
       "    <tr>\n",
       "      <th>minutes_played</th>\n",
       "      <td>747.0</td>\n",
       "      <td>331.611780</td>\n",
       "      <td>248.371930</td>\n",
       "      <td>1.0</td>\n",
       "      <td>116.0</td>\n",
       "      <td>301.0</td>\n",
       "      <td>492.0</td>\n",
       "      <td>1230.0</td>\n",
       "    </tr>\n",
       "    <tr>\n",
       "      <th>match_played</th>\n",
       "      <td>747.0</td>\n",
       "      <td>5.089692</td>\n",
       "      <td>2.721425</td>\n",
       "      <td>1.0</td>\n",
       "      <td>3.0</td>\n",
       "      <td>5.0</td>\n",
       "      <td>7.0</td>\n",
       "      <td>13.0</td>\n",
       "    </tr>\n",
       "    <tr>\n",
       "      <th>goals</th>\n",
       "      <td>747.0</td>\n",
       "      <td>0.492637</td>\n",
       "      <td>1.313321</td>\n",
       "      <td>0.0</td>\n",
       "      <td>0.0</td>\n",
       "      <td>0.0</td>\n",
       "      <td>0.0</td>\n",
       "      <td>15.0</td>\n",
       "    </tr>\n",
       "    <tr>\n",
       "      <th>assists</th>\n",
       "      <td>747.0</td>\n",
       "      <td>0.376171</td>\n",
       "      <td>0.845502</td>\n",
       "      <td>0.0</td>\n",
       "      <td>0.0</td>\n",
       "      <td>0.0</td>\n",
       "      <td>0.0</td>\n",
       "      <td>7.0</td>\n",
       "    </tr>\n",
       "  </tbody>\n",
       "</table>\n",
       "</div>"
      ],
      "text/plain": [
       "                count        mean         std  min    25%    50%    75%  \\\n",
       "minutes_played  747.0  331.611780  248.371930  1.0  116.0  301.0  492.0   \n",
       "match_played    747.0    5.089692    2.721425  1.0    3.0    5.0    7.0   \n",
       "goals           747.0    0.492637    1.313321  0.0    0.0    0.0    0.0   \n",
       "assists         747.0    0.376171    0.845502  0.0    0.0    0.0    0.0   \n",
       "\n",
       "                   max  \n",
       "minutes_played  1230.0  \n",
       "match_played      13.0  \n",
       "goals             15.0  \n",
       "assists            7.0  "
      ]
     },
     "execution_count": 5,
     "metadata": {},
     "output_type": "execute_result"
    }
   ],
   "source": [
    "key_stats.describe().T # Statistical Info."
   ]
  },
  {
   "cell_type": "markdown",
   "id": "bfc8998d",
   "metadata": {
    "papermill": {
     "duration": 0.01218,
     "end_time": "2022-06-18T00:01:08.403557",
     "exception": false,
     "start_time": "2022-06-18T00:01:08.391377",
     "status": "completed"
    },
    "tags": []
   },
   "source": [
    "Among the data the most common name is Martínez, and the most common position is the Midfielder position. The most frequent distance covered was 3.6."
   ]
  },
  {
   "cell_type": "code",
   "execution_count": 6,
   "id": "78703e8a",
   "metadata": {
    "execution": {
     "iopub.execute_input": "2022-06-18T00:01:08.430328Z",
     "iopub.status.busy": "2022-06-18T00:01:08.429915Z",
     "iopub.status.idle": "2022-06-18T00:01:08.453228Z",
     "shell.execute_reply": "2022-06-18T00:01:08.452416Z"
    },
    "papermill": {
     "duration": 0.039071,
     "end_time": "2022-06-18T00:01:08.455168",
     "exception": false,
     "start_time": "2022-06-18T00:01:08.416097",
     "status": "completed"
    },
    "tags": []
   },
   "outputs": [
    {
     "data": {
      "text/html": [
       "<div>\n",
       "<style scoped>\n",
       "    .dataframe tbody tr th:only-of-type {\n",
       "        vertical-align: middle;\n",
       "    }\n",
       "\n",
       "    .dataframe tbody tr th {\n",
       "        vertical-align: top;\n",
       "    }\n",
       "\n",
       "    .dataframe thead th {\n",
       "        text-align: right;\n",
       "    }\n",
       "</style>\n",
       "<table border=\"1\" class=\"dataframe\">\n",
       "  <thead>\n",
       "    <tr style=\"text-align: right;\">\n",
       "      <th></th>\n",
       "      <th>count</th>\n",
       "      <th>unique</th>\n",
       "      <th>top</th>\n",
       "      <th>freq</th>\n",
       "    </tr>\n",
       "  </thead>\n",
       "  <tbody>\n",
       "    <tr>\n",
       "      <th>player_name</th>\n",
       "      <td>747</td>\n",
       "      <td>731</td>\n",
       "      <td>Martínez</td>\n",
       "      <td>3</td>\n",
       "    </tr>\n",
       "    <tr>\n",
       "      <th>club</th>\n",
       "      <td>747</td>\n",
       "      <td>32</td>\n",
       "      <td>Man. United</td>\n",
       "      <td>31</td>\n",
       "    </tr>\n",
       "    <tr>\n",
       "      <th>position</th>\n",
       "      <td>747</td>\n",
       "      <td>4</td>\n",
       "      <td>Midfielder</td>\n",
       "      <td>287</td>\n",
       "    </tr>\n",
       "    <tr>\n",
       "      <th>distance_covered</th>\n",
       "      <td>747</td>\n",
       "      <td>514</td>\n",
       "      <td>3.6</td>\n",
       "      <td>5</td>\n",
       "    </tr>\n",
       "  </tbody>\n",
       "</table>\n",
       "</div>"
      ],
      "text/plain": [
       "                 count unique          top freq\n",
       "player_name        747    731     Martínez    3\n",
       "club               747     32  Man. United   31\n",
       "position           747      4   Midfielder  287\n",
       "distance_covered   747    514          3.6    5"
      ]
     },
     "execution_count": 6,
     "metadata": {},
     "output_type": "execute_result"
    }
   ],
   "source": [
    "key_stats.describe(include=['object']).T"
   ]
  },
  {
   "cell_type": "markdown",
   "id": "4da8319f",
   "metadata": {
    "papermill": {
     "duration": 0.012968,
     "end_time": "2022-06-18T00:01:08.480958",
     "exception": false,
     "start_time": "2022-06-18T00:01:08.467990",
     "status": "completed"
    },
    "tags": []
   },
   "source": [
    "The data's dimensions are made up of 747 rows & 8 columns"
   ]
  },
  {
   "cell_type": "code",
   "execution_count": 7,
   "id": "39d19464",
   "metadata": {
    "execution": {
     "iopub.execute_input": "2022-06-18T00:01:08.508646Z",
     "iopub.status.busy": "2022-06-18T00:01:08.507999Z",
     "iopub.status.idle": "2022-06-18T00:01:08.513493Z",
     "shell.execute_reply": "2022-06-18T00:01:08.512768Z"
    },
    "papermill": {
     "duration": 0.02192,
     "end_time": "2022-06-18T00:01:08.515585",
     "exception": false,
     "start_time": "2022-06-18T00:01:08.493665",
     "status": "completed"
    },
    "tags": []
   },
   "outputs": [
    {
     "data": {
      "text/plain": [
       "(747, 8)"
      ]
     },
     "execution_count": 7,
     "metadata": {},
     "output_type": "execute_result"
    }
   ],
   "source": [
    "key_stats.shape # (rows, columns)"
   ]
  },
  {
   "cell_type": "markdown",
   "id": "9bddd9c1",
   "metadata": {
    "papermill": {
     "duration": 0.012585,
     "end_time": "2022-06-18T00:01:08.541310",
     "exception": false,
     "start_time": "2022-06-18T00:01:08.528725",
     "status": "completed"
    },
    "tags": []
   },
   "source": [
    "The columns' exact names are player_name, club, position, minutes_played, match_played, goals, assists, distance_covered"
   ]
  },
  {
   "cell_type": "code",
   "execution_count": 8,
   "id": "3e7ac753",
   "metadata": {
    "execution": {
     "iopub.execute_input": "2022-06-18T00:01:08.569155Z",
     "iopub.status.busy": "2022-06-18T00:01:08.568543Z",
     "iopub.status.idle": "2022-06-18T00:01:08.574243Z",
     "shell.execute_reply": "2022-06-18T00:01:08.573430Z"
    },
    "papermill": {
     "duration": 0.022111,
     "end_time": "2022-06-18T00:01:08.576282",
     "exception": false,
     "start_time": "2022-06-18T00:01:08.554171",
     "status": "completed"
    },
    "tags": []
   },
   "outputs": [
    {
     "data": {
      "text/plain": [
       "Index(['player_name', 'club', 'position', 'minutes_played', 'match_played',\n",
       "       'goals', 'assists', 'distance_covered'],\n",
       "      dtype='object')"
      ]
     },
     "execution_count": 8,
     "metadata": {},
     "output_type": "execute_result"
    }
   ],
   "source": [
    "key_stats.columns # Names of df columns"
   ]
  },
  {
   "cell_type": "markdown",
   "id": "36acbd31",
   "metadata": {
    "papermill": {
     "duration": 0.01277,
     "end_time": "2022-06-18T00:01:08.602230",
     "exception": false,
     "start_time": "2022-06-18T00:01:08.589460",
     "status": "completed"
    },
    "tags": []
   },
   "source": [
    "The number of unique values tells us that 32 teams make up the data, 731 out of the 747 players have unique names with the difference explained by players having the same name and there are a total of 4 unique player positions."
   ]
  },
  {
   "cell_type": "code",
   "execution_count": 9,
   "id": "2371855f",
   "metadata": {
    "execution": {
     "iopub.execute_input": "2022-06-18T00:01:08.631128Z",
     "iopub.status.busy": "2022-06-18T00:01:08.630526Z",
     "iopub.status.idle": "2022-06-18T00:01:08.639251Z",
     "shell.execute_reply": "2022-06-18T00:01:08.638494Z"
    },
    "papermill": {
     "duration": 0.025737,
     "end_time": "2022-06-18T00:01:08.641504",
     "exception": false,
     "start_time": "2022-06-18T00:01:08.615767",
     "status": "completed"
    },
    "tags": []
   },
   "outputs": [
    {
     "data": {
      "text/plain": [
       "player_name         731\n",
       "club                 32\n",
       "position              4\n",
       "minutes_played      424\n",
       "match_played         13\n",
       "goals                12\n",
       "assists               8\n",
       "distance_covered    514\n",
       "dtype: int64"
      ]
     },
     "execution_count": 9,
     "metadata": {},
     "output_type": "execute_result"
    }
   ],
   "source": [
    "key_stats.nunique() # Number of unique values with columns"
   ]
  },
  {
   "cell_type": "markdown",
   "id": "f599ab9b",
   "metadata": {
    "papermill": {
     "duration": 0.013561,
     "end_time": "2022-06-18T00:01:08.668621",
     "exception": false,
     "start_time": "2022-06-18T00:01:08.655060",
     "status": "completed"
    },
    "tags": []
   },
   "source": [
    "**Clubs that made the EUFA CL 2021-22 Tournament**\n"
   ]
  },
  {
   "cell_type": "code",
   "execution_count": 10,
   "id": "4d07b22d",
   "metadata": {
    "execution": {
     "iopub.execute_input": "2022-06-18T00:01:08.696906Z",
     "iopub.status.busy": "2022-06-18T00:01:08.696207Z",
     "iopub.status.idle": "2022-06-18T00:01:08.703159Z",
     "shell.execute_reply": "2022-06-18T00:01:08.701983Z"
    },
    "papermill": {
     "duration": 0.023778,
     "end_time": "2022-06-18T00:01:08.705504",
     "exception": false,
     "start_time": "2022-06-18T00:01:08.681726",
     "status": "completed"
    },
    "tags": []
   },
   "outputs": [
    {
     "data": {
      "text/plain": [
       "array(['Real Madrid', 'Liverpool', 'Villarreal', 'Man. City', 'Benfica',\n",
       "       'Atlético', 'Bayern', 'Chelsea', 'LOSC', 'Inter', 'Salzburg',\n",
       "       'Ajax', 'Paris', 'Sporting CP', 'Juventus', 'Man. United',\n",
       "       'Club Brugge', 'Sheriff', 'Wolfsburg', 'Dynamo Kyiv', 'Sevilla',\n",
       "       'Shakhtar Donetsk', 'Zenit', 'Dortmund', 'Atalanta', 'Porto',\n",
       "       'Barcelona', 'Young Boys', 'Leipzig', 'Malmö', 'Milan', 'Beşiktaş'],\n",
       "      dtype=object)"
      ]
     },
     "execution_count": 10,
     "metadata": {},
     "output_type": "execute_result"
    }
   ],
   "source": [
    "key_stats['club'].unique() # Names of clubs among key stats\n",
    "\n",
    "\n"
   ]
  },
  {
   "cell_type": "markdown",
   "id": "d03b1a06",
   "metadata": {
    "papermill": {
     "duration": 0.013528,
     "end_time": "2022-06-18T00:01:08.732642",
     "exception": false,
     "start_time": "2022-06-18T00:01:08.719114",
     "status": "completed"
    },
    "tags": []
   },
   "source": [
    "**Player positions**"
   ]
  },
  {
   "cell_type": "code",
   "execution_count": 11,
   "id": "ebf9f8b4",
   "metadata": {
    "execution": {
     "iopub.execute_input": "2022-06-18T00:01:08.761625Z",
     "iopub.status.busy": "2022-06-18T00:01:08.761138Z",
     "iopub.status.idle": "2022-06-18T00:01:08.768082Z",
     "shell.execute_reply": "2022-06-18T00:01:08.767277Z"
    },
    "papermill": {
     "duration": 0.024182,
     "end_time": "2022-06-18T00:01:08.770129",
     "exception": false,
     "start_time": "2022-06-18T00:01:08.745947",
     "status": "completed"
    },
    "tags": []
   },
   "outputs": [
    {
     "data": {
      "text/plain": [
       "array(['Goalkeeper', 'Forward', 'Midfielder', 'Defender'], dtype=object)"
      ]
     },
     "execution_count": 11,
     "metadata": {},
     "output_type": "execute_result"
    }
   ],
   "source": [
    "key_stats['position'].unique() # Player positions among key stats\n"
   ]
  },
  {
   "cell_type": "markdown",
   "id": "67ea9543",
   "metadata": {
    "papermill": {
     "duration": 0.013397,
     "end_time": "2022-06-18T00:01:08.797218",
     "exception": false,
     "start_time": "2022-06-18T00:01:08.783821",
     "status": "completed"
    },
    "tags": []
   },
   "source": [
    "Locate missing values if any and remove column if more than 5% of data is null or missing \n"
   ]
  },
  {
   "cell_type": "code",
   "execution_count": 12,
   "id": "38275d82",
   "metadata": {
    "execution": {
     "iopub.execute_input": "2022-06-18T00:01:08.826709Z",
     "iopub.status.busy": "2022-06-18T00:01:08.826098Z",
     "iopub.status.idle": "2022-06-18T00:01:08.834863Z",
     "shell.execute_reply": "2022-06-18T00:01:08.833785Z"
    },
    "papermill": {
     "duration": 0.026708,
     "end_time": "2022-06-18T00:01:08.837661",
     "exception": false,
     "start_time": "2022-06-18T00:01:08.810953",
     "status": "completed"
    },
    "tags": []
   },
   "outputs": [
    {
     "name": "stdout",
     "output_type": "stream",
     "text": [
      "player_name : 0.0%\n",
      "club : 0.0%\n",
      "position : 0.0%\n",
      "minutes_played : 0.0%\n",
      "match_played : 0.0%\n",
      "goals : 0.0%\n",
      "assists : 0.0%\n",
      "distance_covered : 0.0%\n"
     ]
    }
   ],
   "source": [
    "# Locate any missing values if any\n",
    "for col in key_stats.columns:  \n",
    "    pct_missing = np.mean(key_stats[col].isnull())\n",
    "    print('{} : {}%'.format(col, pct_missing))"
   ]
  },
  {
   "cell_type": "markdown",
   "id": "8311fad2",
   "metadata": {
    "papermill": {
     "duration": 0.013789,
     "end_time": "2022-06-18T00:01:08.864970",
     "exception": false,
     "start_time": "2022-06-18T00:01:08.851181",
     "status": "completed"
    },
    "tags": []
   },
   "source": [
    "# 4. Insights & Visulization of Key Stats\n",
    "* Total goals scored per club\n",
    "* Matches played per club\n",
    "* Top goal scorers\n",
    "* Average playing time per player\n",
    "\n"
   ]
  },
  {
   "cell_type": "code",
   "execution_count": 13,
   "id": "3f9ab4da",
   "metadata": {
    "execution": {
     "iopub.execute_input": "2022-06-18T00:01:08.895251Z",
     "iopub.status.busy": "2022-06-18T00:01:08.894430Z",
     "iopub.status.idle": "2022-06-18T00:01:09.457146Z",
     "shell.execute_reply": "2022-06-18T00:01:09.456131Z"
    },
    "papermill": {
     "duration": 0.580168,
     "end_time": "2022-06-18T00:01:09.459341",
     "exception": false,
     "start_time": "2022-06-18T00:01:08.879173",
     "status": "completed"
    },
    "tags": []
   },
   "outputs": [
    {
     "data": {
      "text/plain": [
       "[Text(0.5, 0, 'Club'), Text(0, 0.5, 'Goals')]"
      ]
     },
     "execution_count": 13,
     "metadata": {},
     "output_type": "execute_result"
    },
    {
     "data": {
      "image/png": "[encoded data removed]",
      "text/plain": [
       "<Figure size 1080x360 with 1 Axes>"
      ]
     },
     "metadata": {},
     "output_type": "display_data"
    }
   ],
   "source": [
    "ksplt = key_stats.groupby('club',as_index = False)['goals'].sum().sort_values(by='goals', ascending=False) # Organize data frame\n",
    "sns.set(rc = {'figure.figsize':(15,5)}) # Adjust plot size\n",
    "plt.xticks(fontsize=10, rotation='vertical') # Format axis ticks\n",
    "a = sns.barplot(x='club', y='goals', data=ksplt, palette='mako') # Customize and set axis parameters\n",
    "a.axes.set_title('Total Goals per Club', fontsize='20') # Set title\n",
    "a.set(xlabel='Club', ylabel='Goals') # Label x and y axis\n"
   ]
  },
  {
   "cell_type": "markdown",
   "id": "74f6d31b",
   "metadata": {
    "papermill": {
     "duration": 0.014157,
     "end_time": "2022-06-18T00:01:09.487890",
     "exception": false,
     "start_time": "2022-06-18T00:01:09.473733",
     "status": "completed"
    },
    "tags": []
   },
   "source": [
    "**Insight:**\n",
    "* Bayern had the most amount of goals amongst its players\n",
    "* Real Madrid who won the tournament came in second \n",
    "* Man. City who finished as a semi-finalist came in third\n"
   ]
  },
  {
   "cell_type": "code",
   "execution_count": 14,
   "id": "e9e5b2ec",
   "metadata": {
    "execution": {
     "iopub.execute_input": "2022-06-18T00:01:09.518340Z",
     "iopub.status.busy": "2022-06-18T00:01:09.517907Z",
     "iopub.status.idle": "2022-06-18T00:01:10.875700Z",
     "shell.execute_reply": "2022-06-18T00:01:10.874774Z"
    },
    "papermill": {
     "duration": 1.375738,
     "end_time": "2022-06-18T00:01:10.878258",
     "exception": false,
     "start_time": "2022-06-18T00:01:09.502520",
     "status": "completed"
    },
    "tags": []
   },
   "outputs": [
    {
     "data": {
      "text/html": [
       "        <script type=\"text/javascript\">\n",
       "        window.PlotlyConfig = {MathJaxConfig: 'local'};\n",
       "        if (window.MathJax && window.MathJax.Hub && window.MathJax.Hub.Config) {window.MathJax.Hub.Config({SVG: {font: \"STIX-Web\"}});}\n",
       "        if (typeof require !== 'undefined') {\n",
       "        require.undef(\"plotly\");\n",
       "        requirejs.config({\n",
       "            paths: {\n",
       "                'plotly': ['https://cdn.plot.ly/plotly-2.12.1.min']\n",
       "            }\n",
       "        });\n",
       "        require(['plotly'], function(Plotly) {\n",
       "            window._Plotly = Plotly;\n",
       "        });\n",
       "        }\n",
       "        </script>\n",
       "        "
      ]
     },
     "metadata": {},
     "output_type": "display_data"
    },
    {
     "data": {
      "text/html": [
       "<div>                            <div id=\"53a790a7-98ed-4bbf-8694-9e9ae43338fd\" class=\"plotly-graph-div\" style=\"height:500px; width:1000px;\"></div>            <script type=\"text/javascript\">                require([\"plotly\"], function(Plotly) {                    window.PLOTLYENV=window.PLOTLYENV || {};                                    if (document.getElementById(\"53a790a7-98ed-4bbf-8694-9e9ae43338fd\")) {                    Plotly.newPlot(                        \"53a790a7-98ed-4bbf-8694-9e9ae43338fd\",                        [{\"branchvalues\":\"total\",\"customdata\":[[8.0],[6.0],[10.0],[6.0],[10.0],[10.0],[5.0],[9.0],[6.0],[6.0],[6.0],[8.0],[7.0],[10.0],[6.0],[13.0],[6.0],[12.0],[8.0],[6.0],[8.0],[6.0],[13.0],[8.0],[6.0],[6.0],[6.0],[8.0],[12.0],[6.0],[6.0],[6.0]],\"domain\":{\"x\":[0.0,1.0],\"y\":[0.0,1.0]},\"hovertemplate\":\"labels=%{label}<br>match_played_sum=%{value}<br>parent=%{parent}<br>id=%{id}<br>match_played=%{color}<extra></extra>\",\"ids\":[\"Ajax\",\"Atalanta\",\"Atlético\",\"Barcelona\",\"Bayern\",\"Benfica\",\"Beşiktaş\",\"Chelsea\",\"Club Brugge\",\"Dortmund\",\"Dynamo Kyiv\",\"Inter\",\"Juventus\",\"LOSC\",\"Leipzig\",\"Liverpool\",\"Malmö\",\"Man. City\",\"Man. United\",\"Milan\",\"Paris\",\"Porto\",\"Real Madrid\",\"Salzburg\",\"Sevilla\",\"Shakhtar Donetsk\",\"Sheriff\",\"Sporting CP\",\"Villarreal\",\"Wolfsburg\",\"Young Boys\",\"Zenit\"],\"labels\":[\"Ajax\",\"Atalanta\",\"Atlético\",\"Barcelona\",\"Bayern\",\"Benfica\",\"Beşiktaş\",\"Chelsea\",\"Club Brugge\",\"Dortmund\",\"Dynamo Kyiv\",\"Inter\",\"Juventus\",\"LOSC\",\"Leipzig\",\"Liverpool\",\"Malmö\",\"Man. City\",\"Man. United\",\"Milan\",\"Paris\",\"Porto\",\"Real Madrid\",\"Salzburg\",\"Sevilla\",\"Shakhtar Donetsk\",\"Sheriff\",\"Sporting CP\",\"Villarreal\",\"Wolfsburg\",\"Young Boys\",\"Zenit\"],\"marker\":{\"coloraxis\":\"coloraxis\",\"colors\":[8.0,6.0,10.0,6.0,10.0,10.0,5.0,9.0,6.0,6.0,6.0,8.0,7.0,10.0,6.0,13.0,6.0,12.0,8.0,6.0,8.0,6.0,13.0,8.0,6.0,6.0,6.0,8.0,12.0,6.0,6.0,6.0]},\"name\":\"\",\"parents\":[\"\",\"\",\"\",\"\",\"\",\"\",\"\",\"\",\"\",\"\",\"\",\"\",\"\",\"\",\"\",\"\",\"\",\"\",\"\",\"\",\"\",\"\",\"\",\"\",\"\",\"\",\"\",\"\",\"\",\"\",\"\",\"\"],\"values\":[8,6,10,6,10,10,5,9,6,6,6,8,7,10,6,13,6,12,8,6,8,6,13,8,6,6,6,8,12,6,6,6],\"type\":\"treemap\"}],                        {\"template\":{\"data\":{\"histogram2dcontour\":[{\"type\":\"histogram2dcontour\",\"colorbar\":{\"outlinewidth\":0,\"ticks\":\"\"},\"colorscale\":[[0.0,\"#0d0887\"],[0.1111111111111111,\"#46039f\"],[0.2222222222222222,\"#7201a8\"],[0.3333333333333333,\"#9c179e\"],[0.4444444444444444,\"#bd3786\"],[0.5555555555555556,\"#d8576b\"],[0.6666666666666666,\"#ed7953\"],[0.7777777777777778,\"#fb9f3a\"],[0.8888888888888888,\"#fdca26\"],[1.0,\"#f0f921\"]]}],\"choropleth\":[{\"type\":\"choropleth\",\"colorbar\":{\"outlinewidth\":0,\"ticks\":\"\"}}],\"histogram2d\":[{\"type\":\"histogram2d\",\"colorbar\":{\"outlinewidth\":0,\"ticks\":\"\"},\"colorscale\":[[0.0,\"#0d0887\"],[0.1111111111111111,\"#46039f\"],[0.2222222222222222,\"#7201a8\"],[0.3333333333333333,\"#9c179e\"],[0.4444444444444444,\"#bd3786\"],[0.5555555555555556,\"#d8576b\"],[0.6666666666666666,\"#ed7953\"],[0.7777777777777778,\"#fb9f3a\"],[0.8888888888888888,\"#fdca26\"],[1.0,\"#f0f921\"]]}],\"heatmap\":[{\"type\":\"heatmap\",\"colorbar\":{\"outlinewidth\":0,\"ticks\":\"\"},\"colorscale\":[[0.0,\"#0d0887\"],[0.1111111111111111,\"#46039f\"],[0.2222222222222222,\"#7201a8\"],[0.3333333333333333,\"#9c179e\"],[0.4444444444444444,\"#bd3786\"],[0.5555555555555556,\"#d8576b\"],[0.6666666666666666,\"#ed7953\"],[0.7777777777777778,\"#fb9f3a\"],[0.8888888888888888,\"#fdca26\"],[1.0,\"#f0f921\"]]}],\"heatmapgl\":[{\"type\":\"heatmapgl\",\"colorbar\":{\"outlinewidth\":0,\"ticks\":\"\"},\"colorscale\":[[0.0,\"#0d0887\"],[0.1111111111111111,\"#46039f\"],[0.2222222222222222,\"#7201a8\"],[0.3333333333333333,\"#9c179e\"],[0.4444444444444444,\"#bd3786\"],[0.5555555555555556,\"#d8576b\"],[0.6666666666666666,\"#ed7953\"],[0.7777777777777778,\"#fb9f3a\"],[0.8888888888888888,\"#fdca26\"],[1.0,\"#f0f921\"]]}],\"contourcarpet\":[{\"type\":\"contourcarpet\",\"colorbar\":{\"outlinewidth\":0,\"ticks\":\"\"}}],\"contour\":[{\"type\":\"contour\",\"colorbar\":{\"outlinewidth\":0,\"ticks\":\"\"},\"colorscale\":[[0.0,\"#0d0887\"],[0.1111111111111111,\"#46039f\"],[0.2222222222222222,\"#7201a8\"],[0.3333333333333333,\"#9c179e\"],[0.4444444444444444,\"#bd3786\"],[0.5555555555555556,\"#d8576b\"],[0.6666666666666666,\"#ed7953\"],[0.7777777777777778,\"#fb9f3a\"],[0.8888888888888888,\"#fdca26\"],[1.0,\"#f0f921\"]]}],\"surface\":[{\"type\":\"surface\",\"colorbar\":{\"outlinewidth\":0,\"ticks\":\"\"},\"colorscale\":[[0.0,\"#0d0887\"],[0.1111111111111111,\"#46039f\"],[0.2222222222222222,\"#7201a8\"],[0.3333333333333333,\"#9c179e\"],[0.4444444444444444,\"#bd3786\"],[0.5555555555555556,\"#d8576b\"],[0.6666666666666666,\"#ed7953\"],[0.7777777777777778,\"#fb9f3a\"],[0.8888888888888888,\"#fdca26\"],[1.0,\"#f0f921\"]]}],\"mesh3d\":[{\"type\":\"mesh3d\",\"colorbar\":{\"outlinewidth\":0,\"ticks\":\"\"}}],\"scatter\":[{\"fillpattern\":{\"fillmode\":\"overlay\",\"size\":10,\"solidity\":0.2},\"type\":\"scatter\"}],\"parcoords\":[{\"type\":\"parcoords\",\"line\":{\"colorbar\":{\"outlinewidth\":0,\"ticks\":\"\"}}}],\"scatterpolargl\":[{\"type\":\"scatterpolargl\",\"marker\":{\"colorbar\":{\"outlinewidth\":0,\"ticks\":\"\"}}}],\"bar\":[{\"error_x\":{\"color\":\"#2a3f5f\"},\"error_y\":{\"color\":\"#2a3f5f\"},\"marker\":{\"line\":{\"color\":\"#E5ECF6\",\"width\":0.5},\"pattern\":{\"fillmode\":\"overlay\",\"size\":10,\"solidity\":0.2}},\"type\":\"bar\"}],\"scattergeo\":[{\"type\":\"scattergeo\",\"marker\":{\"colorbar\":{\"outlinewidth\":0,\"ticks\":\"\"}}}],\"scatterpolar\":[{\"type\":\"scatterpolar\",\"marker\":{\"colorbar\":{\"outlinewidth\":0,\"ticks\":\"\"}}}],\"histogram\":[{\"marker\":{\"pattern\":{\"fillmode\":\"overlay\",\"size\":10,\"solidity\":0.2}},\"type\":\"histogram\"}],\"scattergl\":[{\"type\":\"scattergl\",\"marker\":{\"colorbar\":{\"outlinewidth\":0,\"ticks\":\"\"}}}],\"scatter3d\":[{\"type\":\"scatter3d\",\"line\":{\"colorbar\":{\"outlinewidth\":0,\"ticks\":\"\"}},\"marker\":{\"colorbar\":{\"outlinewidth\":0,\"ticks\":\"\"}}}],\"scattermapbox\":[{\"type\":\"scattermapbox\",\"marker\":{\"colorbar\":{\"outlinewidth\":0,\"ticks\":\"\"}}}],\"scatterternary\":[{\"type\":\"scatterternary\",\"marker\":{\"colorbar\":{\"outlinewidth\":0,\"ticks\":\"\"}}}],\"scattercarpet\":[{\"type\":\"scattercarpet\",\"marker\":{\"colorbar\":{\"outlinewidth\":0,\"ticks\":\"\"}}}],\"carpet\":[{\"aaxis\":{\"endlinecolor\":\"#2a3f5f\",\"gridcolor\":\"white\",\"linecolor\":\"white\",\"minorgridcolor\":\"white\",\"startlinecolor\":\"#2a3f5f\"},\"baxis\":{\"endlinecolor\":\"#2a3f5f\",\"gridcolor\":\"white\",\"linecolor\":\"white\",\"minorgridcolor\":\"white\",\"startlinecolor\":\"#2a3f5f\"},\"type\":\"carpet\"}],\"table\":[{\"cells\":{\"fill\":{\"color\":\"#EBF0F8\"},\"line\":{\"color\":\"white\"}},\"header\":{\"fill\":{\"color\":\"#C8D4E3\"},\"line\":{\"color\":\"white\"}},\"type\":\"table\"}],\"barpolar\":[{\"marker\":{\"line\":{\"color\":\"#E5ECF6\",\"width\":0.5},\"pattern\":{\"fillmode\":\"overlay\",\"size\":10,\"solidity\":0.2}},\"type\":\"barpolar\"}],\"pie\":[{\"automargin\":true,\"type\":\"pie\"}]},\"layout\":{\"autotypenumbers\":\"strict\",\"colorway\":[\"#636efa\",\"#EF553B\",\"#00cc96\",\"#ab63fa\",\"#FFA15A\",\"#19d3f3\",\"#FF6692\",\"#B6E880\",\"#FF97FF\",\"#FECB52\"],\"font\":{\"color\":\"#2a3f5f\"},\"hovermode\":\"closest\",\"hoverlabel\":{\"align\":\"left\"},\"paper_bgcolor\":\"white\",\"plot_bgcolor\":\"#E5ECF6\",\"polar\":{\"bgcolor\":\"#E5ECF6\",\"angularaxis\":{\"gridcolor\":\"white\",\"linecolor\":\"white\",\"ticks\":\"\"},\"radialaxis\":{\"gridcolor\":\"white\",\"linecolor\":\"white\",\"ticks\":\"\"}},\"ternary\":{\"bgcolor\":\"#E5ECF6\",\"aaxis\":{\"gridcolor\":\"white\",\"linecolor\":\"white\",\"ticks\":\"\"},\"baxis\":{\"gridcolor\":\"white\",\"linecolor\":\"white\",\"ticks\":\"\"},\"caxis\":{\"gridcolor\":\"white\",\"linecolor\":\"white\",\"ticks\":\"\"}},\"coloraxis\":{\"colorbar\":{\"outlinewidth\":0,\"ticks\":\"\"}},\"colorscale\":{\"sequential\":[[0.0,\"#0d0887\"],[0.1111111111111111,\"#46039f\"],[0.2222222222222222,\"#7201a8\"],[0.3333333333333333,\"#9c179e\"],[0.4444444444444444,\"#bd3786\"],[0.5555555555555556,\"#d8576b\"],[0.6666666666666666,\"#ed7953\"],[0.7777777777777778,\"#fb9f3a\"],[0.8888888888888888,\"#fdca26\"],[1.0,\"#f0f921\"]],\"sequentialminus\":[[0.0,\"#0d0887\"],[0.1111111111111111,\"#46039f\"],[0.2222222222222222,\"#7201a8\"],[0.3333333333333333,\"#9c179e\"],[0.4444444444444444,\"#bd3786\"],[0.5555555555555556,\"#d8576b\"],[0.6666666666666666,\"#ed7953\"],[0.7777777777777778,\"#fb9f3a\"],[0.8888888888888888,\"#fdca26\"],[1.0,\"#f0f921\"]],\"diverging\":[[0,\"#8e0152\"],[0.1,\"#c51b7d\"],[0.2,\"#de77ae\"],[0.3,\"#f1b6da\"],[0.4,\"#fde0ef\"],[0.5,\"#f7f7f7\"],[0.6,\"#e6f5d0\"],[0.7,\"#b8e186\"],[0.8,\"#7fbc41\"],[0.9,\"#4d9221\"],[1,\"#276419\"]]},\"xaxis\":{\"gridcolor\":\"white\",\"linecolor\":\"white\",\"ticks\":\"\",\"title\":{\"standoff\":15},\"zerolinecolor\":\"white\",\"automargin\":true,\"zerolinewidth\":2},\"yaxis\":{\"gridcolor\":\"white\",\"linecolor\":\"white\",\"ticks\":\"\",\"title\":{\"standoff\":15},\"zerolinecolor\":\"white\",\"automargin\":true,\"zerolinewidth\":2},\"scene\":{\"xaxis\":{\"backgroundcolor\":\"#E5ECF6\",\"gridcolor\":\"white\",\"linecolor\":\"white\",\"showbackground\":true,\"ticks\":\"\",\"zerolinecolor\":\"white\",\"gridwidth\":2},\"yaxis\":{\"backgroundcolor\":\"#E5ECF6\",\"gridcolor\":\"white\",\"linecolor\":\"white\",\"showbackground\":true,\"ticks\":\"\",\"zerolinecolor\":\"white\",\"gridwidth\":2},\"zaxis\":{\"backgroundcolor\":\"#E5ECF6\",\"gridcolor\":\"white\",\"linecolor\":\"white\",\"showbackground\":true,\"ticks\":\"\",\"zerolinecolor\":\"white\",\"gridwidth\":2}},\"shapedefaults\":{\"line\":{\"color\":\"#2a3f5f\"}},\"annotationdefaults\":{\"arrowcolor\":\"#2a3f5f\",\"arrowhead\":0,\"arrowwidth\":1},\"geo\":{\"bgcolor\":\"white\",\"landcolor\":\"#E5ECF6\",\"subunitcolor\":\"white\",\"showland\":true,\"showlakes\":true,\"lakecolor\":\"white\"},\"title\":{\"x\":0.05},\"mapbox\":{\"style\":\"light\"}}},\"coloraxis\":{\"colorbar\":{\"title\":{\"text\":\"match_played\"}},\"colorscale\":[[0.0,\"rgb(253, 253, 204)\"],[0.09090909090909091,\"rgb(206, 236, 179)\"],[0.18181818181818182,\"rgb(156, 219, 165)\"],[0.2727272727272727,\"rgb(111, 201, 163)\"],[0.36363636363636365,\"rgb(86, 177, 163)\"],[0.45454545454545453,\"rgb(76, 153, 160)\"],[0.5454545454545454,\"rgb(68, 130, 155)\"],[0.6363636363636364,\"rgb(62, 108, 150)\"],[0.7272727272727273,\"rgb(62, 82, 143)\"],[0.8181818181818182,\"rgb(64, 60, 115)\"],[0.9090909090909091,\"rgb(54, 43, 77)\"],[1.0,\"rgb(39, 26, 44)\"]]},\"legend\":{\"tracegroupgap\":0},\"margin\":{\"t\":50,\"l\":25,\"r\":25,\"b\":25},\"height\":500,\"width\":1000,\"title\":{\"text\":\"Matches Played per Club\",\"x\":0.5}},                        {\"responsive\": true}                    ).then(function(){\n",
       "                            \n",
       "var gd = document.getElementById('53a790a7-98ed-4bbf-8694-9e9ae43338fd');\n",
       "var x = new MutationObserver(function (mutations, observer) {{\n",
       "        var display = window.getComputedStyle(gd).display;\n",
       "        if (!display || display === 'none') {{\n",
       "            console.log([gd, 'removed!']);\n",
       "            Plotly.purge(gd);\n",
       "            observer.disconnect();\n",
       "        }}\n",
       "}});\n",
       "\n",
       "// Listen for the removal of the full notebook cells\n",
       "var notebookContainer = gd.closest('#notebook-container');\n",
       "if (notebookContainer) {{\n",
       "    x.observe(notebookContainer, {childList: true});\n",
       "}}\n",
       "\n",
       "// Listen for the clearing of the current output cell\n",
       "var outputEl = gd.closest('.output');\n",
       "if (outputEl) {{\n",
       "    x.observe(outputEl, {childList: true});\n",
       "}}\n",
       "\n",
       "                        })                };                });            </script>        </div>"
      ]
     },
     "metadata": {},
     "output_type": "display_data"
    }
   ],
   "source": [
    "mtchplt = key_stats.groupby('club',as_index = False)['match_played'].max().sort_values(by='match_played', ascending=False) # Organize data frame\n",
    "\n",
    "fig = px.treemap(mtchplt, path=['club'],values= 'match_played', color='match_played', color_continuous_scale= 'deep', width=1000, height=500) # Build Treemap\n",
    "\n",
    "fig.update_layout(title_text='Matches Played per Club', title_x=0.5) # Align title to center \n",
    "fig.update_layout(margin = dict(t=50, l=25, r=25, b=25)) # Adjust margins\n",
    "fig.show() # Show Treemap"
   ]
  },
  {
   "cell_type": "markdown",
   "id": "94a18122",
   "metadata": {
    "papermill": {
     "duration": 0.015397,
     "end_time": "2022-06-18T00:01:10.909720",
     "exception": false,
     "start_time": "2022-06-18T00:01:10.894323",
     "status": "completed"
    },
    "tags": []
   },
   "source": [
    "**Insight:**\n",
    "* Real Madrid and Liverpool aggregated the most amount of matches played in the tournament (final match played amongst them)\n",
    "* Villarreal and Man. City came away witht second most amount of matches played due to the fact they played a 3rd/4rd place match\n",
    "* LOSC, Atletico, Bayern and Benefica had the third most matches having partaken in the quarter-final matches\n",
    "* Chelsea, Ajax, Salzburg, Man. United, Paris, Inter, Sporting CP and Juventus followed as the most matches played having partaken in the round of 16\n",
    "* The remaining teams partook of the standard group stage matches unfortunately not qualifying to the knockout stages of competition"
   ]
  },
  {
   "cell_type": "code",
   "execution_count": 15,
   "id": "741d5244",
   "metadata": {
    "execution": {
     "iopub.execute_input": "2022-06-18T00:01:10.943975Z",
     "iopub.status.busy": "2022-06-18T00:01:10.943076Z",
     "iopub.status.idle": "2022-06-18T00:01:11.243355Z",
     "shell.execute_reply": "2022-06-18T00:01:11.242360Z"
    },
    "papermill": {
     "duration": 0.321975,
     "end_time": "2022-06-18T00:01:11.246598",
     "exception": false,
     "start_time": "2022-06-18T00:01:10.924623",
     "status": "completed"
    },
    "tags": []
   },
   "outputs": [
    {
     "data": {
      "text/plain": [
       "[Text(0.5, 0, 'Player'), Text(0, 0.5, 'Goals')]"
      ]
     },
     "execution_count": 15,
     "metadata": {},
     "output_type": "execute_result"
    },
    {
     "data": {
      "image/png": "[encoded data removed]",
      "text/plain": [
       "<Figure size 1080x360 with 1 Axes>"
      ]
     },
     "metadata": {},
     "output_type": "display_data"
    }
   ],
   "source": [
    "tgsplt = key_stats.groupby('player_name',as_index = False)['goals'].sum().sort_values(by='goals', ascending=False)[:10] # Organize data frame set limit to 10 players\n",
    "sns.set(rc = {'figure.figsize':(15,5)}) # Adjust plot size\n",
    "plt.xticks(fontsize=10, rotation='vertical') # Format axis ticks\n",
    "a = sns.barplot(x='player_name', y='goals', data=tgsplt, palette='mako') # Customize and set axis parameters\n",
    "a.axes.set_title('Top goal scorers', fontsize='20') # Set title\n",
    "a.set(xlabel='Player', ylabel='Goals') # Label x and y axis"
   ]
  },
  {
   "cell_type": "markdown",
   "id": "950b086d",
   "metadata": {
    "papermill": {
     "duration": 0.014957,
     "end_time": "2022-06-18T00:01:11.282369",
     "exception": false,
     "start_time": "2022-06-18T00:01:11.267412",
     "status": "completed"
    },
    "tags": []
   },
   "source": [
    "**Insight:**\n",
    "* Benzema was the top scorer of the entire competition having scored 15 goals in 13 matches. **1.15 goals per game**\n",
    "* Lewandowski was the runner up scorer with 13 goals despite only having participated in 10 matches. **1.3 goals per game**\n",
    "* Haller in third, netted 11 goals in 8 mathces. **1.37 goals per game**\n",
    "* Salah came in fourth despite having played 13 matches netting in 8 goals. **.61 goals per game**"
   ]
  },
  {
   "cell_type": "markdown",
   "id": "32b5411d",
   "metadata": {
    "papermill": {
     "duration": 0.014862,
     "end_time": "2022-06-18T00:01:11.312366",
     "exception": false,
     "start_time": "2022-06-18T00:01:11.297504",
     "status": "completed"
    },
    "tags": []
   },
   "source": [
    "Average Playing Time per Player"
   ]
  },
  {
   "cell_type": "code",
   "execution_count": 16,
   "id": "4eac22b8",
   "metadata": {
    "execution": {
     "iopub.execute_input": "2022-06-18T00:01:11.344838Z",
     "iopub.status.busy": "2022-06-18T00:01:11.344398Z",
     "iopub.status.idle": "2022-06-18T00:01:12.921335Z",
     "shell.execute_reply": "2022-06-18T00:01:12.920385Z"
    },
    "papermill": {
     "duration": 1.595653,
     "end_time": "2022-06-18T00:01:12.923594",
     "exception": false,
     "start_time": "2022-06-18T00:01:11.327941",
     "status": "completed"
    },
    "tags": []
   },
   "outputs": [
    {
     "data": {
      "text/plain": [
       "[Text(0.5, 0, 'Player'), Text(0, 0.5, 'Playing Time')]"
      ]
     },
     "execution_count": 16,
     "metadata": {},
     "output_type": "execute_result"
    },
    {
     "data": {
      "image/png": "[encoded data removed]",
      "text/plain": [
       "<Figure size 1080x360 with 1 Axes>"
      ]
     },
     "metadata": {},
     "output_type": "display_data"
    }
   ],
   "source": [
    "playtime = key_stats.groupby('player_name',as_index = False)['minutes_played'].sum().sort_values(by='minutes_played', ascending=False)[:50] # Organize data frame set limit to 10 players\n",
    "\n",
    "sns.set(rc = {'figure.figsize':(15,5)}) # Adjust plot size\n",
    "plt.xticks(fontsize=10, rotation='vertical') # Format axis ticks\n",
    "a = sns.barplot(x='player_name', y='minutes_played', data=playtime, palette='mako') # Customize and set axis parameters\n",
    "a.axes.set_title('Average Playing Time per Player', fontsize='20') # Set title\n",
    "a.set(xlabel='Player', ylabel='Playing Time') # Label x and y axis\n"
   ]
  },
  {
   "cell_type": "markdown",
   "id": "fe56cfd7",
   "metadata": {
    "papermill": {
     "duration": 0.016215,
     "end_time": "2022-06-18T00:01:12.956259",
     "exception": false,
     "start_time": "2022-06-18T00:01:12.940044",
     "status": "completed"
    },
    "tags": []
   },
   "source": [
    "**Insight:** \n",
    "* Amongst the top 50 players with the most playing time, the average amount of playing time is between 800 and 1000 minutes played through out the tournament.\n",
    "* Mendy played the most amount of time among all players in the tournament by a substantial amount.\n",
    "* Players that made the top 50 players with the most playing time, are memebers of clubs that made it pass the qualifying group stage thus, contributing to longer playing times.\n"
   ]
  },
  {
   "cell_type": "code",
   "execution_count": 17,
   "id": "eeec7fe2",
   "metadata": {
    "execution": {
     "iopub.execute_input": "2022-06-18T00:01:12.992418Z",
     "iopub.status.busy": "2022-06-18T00:01:12.991796Z",
     "iopub.status.idle": "2022-06-18T00:01:13.003518Z",
     "shell.execute_reply": "2022-06-18T00:01:13.002399Z"
    },
    "papermill": {
     "duration": 0.033573,
     "end_time": "2022-06-18T00:01:13.005812",
     "exception": false,
     "start_time": "2022-06-18T00:01:12.972239",
     "status": "completed"
    },
    "tags": []
   },
   "outputs": [
    {
     "name": "stdout",
     "output_type": "stream",
     "text": [
      "         player_name         club    position  minutes_played  match_played  \\\n",
      "0           Courtois  Real Madrid  Goalkeeper            1230            13   \n",
      "1    Vinícius Júnior  Real Madrid     Forward            1199            13   \n",
      "2            Benzema  Real Madrid     Forward            1106            12   \n",
      "3             Modrić  Real Madrid  Midfielder            1077            13   \n",
      "4       Éder Militão  Real Madrid    Defender            1076            12   \n",
      "..               ...          ...         ...             ...           ...   \n",
      "742         Gil Dias      Benfica  Midfielder               1             1   \n",
      "743  Rodrigo Ribeiro  Sporting CP     Forward               1             1   \n",
      "744         Cojocari      Sheriff    Defender               1             1   \n",
      "745         Maouassa  Club Brugge    Defender               1             1   \n",
      "746          Zesiger   Young Boys    Defender               1             1   \n",
      "\n",
      "     goals  assists distance_covered  \n",
      "0        0        0             64.2  \n",
      "1        4        6            133.0  \n",
      "2       15        1            121.5  \n",
      "3        0        4            124.5  \n",
      "4        0        0            110.4  \n",
      "..     ...      ...              ...  \n",
      "742      0        0              0.7  \n",
      "743      0        0              0.7  \n",
      "744      0        0              0.5  \n",
      "745      0        0              0.2  \n",
      "746      0        0                -  \n",
      "\n",
      "[747 rows x 8 columns]\n"
     ]
    }
   ],
   "source": [
    "print(key_stats)"
   ]
  },
  {
   "cell_type": "markdown",
   "id": "15fc12b6",
   "metadata": {
    "papermill": {
     "duration": 0.016037,
     "end_time": "2022-06-18T00:01:13.038324",
     "exception": false,
     "start_time": "2022-06-18T00:01:13.022287",
     "status": "completed"
    },
    "tags": []
   },
   "source": [
    "**Check for missing values before analysis of data**\n",
    "* If variable has more than %5 missing data then remove variable "
   ]
  },
  {
   "cell_type": "code",
   "execution_count": 18,
   "id": "4efeaaa3",
   "metadata": {
    "execution": {
     "iopub.execute_input": "2022-06-18T00:01:13.072655Z",
     "iopub.status.busy": "2022-06-18T00:01:13.072223Z",
     "iopub.status.idle": "2022-06-18T00:01:13.083074Z",
     "shell.execute_reply": "2022-06-18T00:01:13.081486Z"
    },
    "papermill": {
     "duration": 0.030426,
     "end_time": "2022-06-18T00:01:13.085222",
     "exception": false,
     "start_time": "2022-06-18T00:01:13.054796",
     "status": "completed"
    },
    "tags": []
   },
   "outputs": [
    {
     "name": "stdout",
     "output_type": "stream",
     "text": [
      "serial : 0.0%\n",
      "player_name : 0.0%\n",
      "club : 0.0%\n",
      "position : 0.0%\n",
      "assists : 0.0%\n",
      "corner_taken : 0.0%\n",
      "offsides : 0.0%\n",
      "dribbles : 0.0%\n",
      "match_played : 0.0%\n"
     ]
    }
   ],
   "source": [
    "# Find any missing values or missing data\n",
    "\n",
    "for col in attacking.columns:\n",
    "    pct_missing = np.mean(attacking[col].isnull())\n",
    "    print('{} : {}%'.format(col, pct_missing))"
   ]
  },
  {
   "cell_type": "code",
   "execution_count": 19,
   "id": "6a14aa68",
   "metadata": {
    "execution": {
     "iopub.execute_input": "2022-06-18T00:01:13.120415Z",
     "iopub.status.busy": "2022-06-18T00:01:13.119571Z",
     "iopub.status.idle": "2022-06-18T00:01:13.129240Z",
     "shell.execute_reply": "2022-06-18T00:01:13.128395Z"
    },
    "papermill": {
     "duration": 0.029801,
     "end_time": "2022-06-18T00:01:13.131846",
     "exception": false,
     "start_time": "2022-06-18T00:01:13.102045",
     "status": "completed"
    },
    "tags": []
   },
   "outputs": [
    {
     "name": "stdout",
     "output_type": "stream",
     "text": [
      "serial : 0.0%\n",
      "player_name : 0.0%\n",
      "club : 0.0%\n",
      "position : 0.0%\n",
      "balls_recoverd : 0.0%\n",
      "tackles : 0.0%\n",
      "t_won : 0.0%\n",
      "t_lost : 0.0%\n",
      "clearance_attempted : 0.0%\n",
      "match_played : 0.0%\n"
     ]
    }
   ],
   "source": [
    "# Find any missing values or missing data\n",
    "\n",
    "for col in defending.columns:\n",
    "    pct_missing = np.mean(defending[col].isnull())\n",
    "    print('{} : {}%'.format(col, pct_missing))"
   ]
  },
  {
   "cell_type": "code",
   "execution_count": 20,
   "id": "f05d4a15",
   "metadata": {
    "execution": {
     "iopub.execute_input": "2022-06-18T00:01:13.166820Z",
     "iopub.status.busy": "2022-06-18T00:01:13.166108Z",
     "iopub.status.idle": "2022-06-18T00:01:13.176496Z",
     "shell.execute_reply": "2022-06-18T00:01:13.175495Z"
    },
    "papermill": {
     "duration": 0.030287,
     "end_time": "2022-06-18T00:01:13.178832",
     "exception": false,
     "start_time": "2022-06-18T00:01:13.148545",
     "status": "completed"
    },
    "tags": []
   },
   "outputs": [
    {
     "name": "stdout",
     "output_type": "stream",
     "text": [
      "serial : 0.0%\n",
      "player_name : 0.0%\n",
      "club : 0.0%\n",
      "position : 0.0%\n",
      "total_attempts : 0.0%\n",
      "on_target : 0.0%\n",
      "off_target : 0.0%\n",
      "blocked : 0.0%\n",
      "match_played : 0.0%\n"
     ]
    }
   ],
   "source": [
    "for col in attempts.columns:\n",
    "    pct_missing = np.mean(attempts[col].isnull())\n",
    "    print('{} : {}%'.format(col, pct_missing))"
   ]
  },
  {
   "cell_type": "code",
   "execution_count": 21,
   "id": "32270f14",
   "metadata": {
    "execution": {
     "iopub.execute_input": "2022-06-18T00:01:13.213654Z",
     "iopub.status.busy": "2022-06-18T00:01:13.213212Z",
     "iopub.status.idle": "2022-06-18T00:01:13.224495Z",
     "shell.execute_reply": "2022-06-18T00:01:13.223310Z"
    },
    "papermill": {
     "duration": 0.031504,
     "end_time": "2022-06-18T00:01:13.227012",
     "exception": false,
     "start_time": "2022-06-18T00:01:13.195508",
     "status": "completed"
    },
    "tags": []
   },
   "outputs": [
    {
     "name": "stdout",
     "output_type": "stream",
     "text": [
      "serial : 0.0%\n",
      "player_name : 0.0%\n",
      "club : 0.0%\n",
      "position : 0.0%\n",
      "fouls_committed : 0.0%\n",
      "fouls_suffered : 0.0%\n",
      "red : 0.0%\n",
      "yellow : 0.0%\n",
      "minutes_played : 0.0%\n",
      "match_played : 0.0%\n"
     ]
    }
   ],
   "source": [
    "for col in disciplinary.columns:\n",
    "    pct_missing = np.mean(disciplinary[col].isnull())\n",
    "    print('{} : {}%'.format(col, pct_missing))"
   ]
  },
  {
   "cell_type": "code",
   "execution_count": 22,
   "id": "0cce0c3d",
   "metadata": {
    "execution": {
     "iopub.execute_input": "2022-06-18T00:01:13.262839Z",
     "iopub.status.busy": "2022-06-18T00:01:13.262363Z",
     "iopub.status.idle": "2022-06-18T00:01:13.274047Z",
     "shell.execute_reply": "2022-06-18T00:01:13.272956Z"
    },
    "papermill": {
     "duration": 0.032655,
     "end_time": "2022-06-18T00:01:13.276259",
     "exception": false,
     "start_time": "2022-06-18T00:01:13.243604",
     "status": "completed"
    },
    "tags": []
   },
   "outputs": [
    {
     "name": "stdout",
     "output_type": "stream",
     "text": [
      "serial : 0.0%\n",
      "player_name : 0.0%\n",
      "club : 0.0%\n",
      "position : 0.0%\n",
      "pass_accuracy : 0.0%\n",
      "pass_attempted : 0.0%\n",
      "pass_completed : 0.0%\n",
      "cross_accuracy : 0.0%\n",
      "cross_attempted : 0.0%\n",
      "cross_complted : 0.0%\n",
      "freekicks_taken : 0.0%\n",
      "match_played : 0.0%\n"
     ]
    }
   ],
   "source": [
    "for col in distribution.columns:\n",
    "    pct_missing = np.mean(distribution[col].isnull())\n",
    "    print('{} : {}%'.format(col, pct_missing))"
   ]
  },
  {
   "cell_type": "code",
   "execution_count": 23,
   "id": "d0f35929",
   "metadata": {
    "execution": {
     "iopub.execute_input": "2022-06-18T00:01:13.311728Z",
     "iopub.status.busy": "2022-06-18T00:01:13.311291Z",
     "iopub.status.idle": "2022-06-18T00:01:13.320884Z",
     "shell.execute_reply": "2022-06-18T00:01:13.319787Z"
    },
    "papermill": {
     "duration": 0.030429,
     "end_time": "2022-06-18T00:01:13.323553",
     "exception": false,
     "start_time": "2022-06-18T00:01:13.293124",
     "status": "completed"
    },
    "tags": []
   },
   "outputs": [
    {
     "name": "stdout",
     "output_type": "stream",
     "text": [
      "serial : 0.0%\n",
      "player_name : 0.0%\n",
      "club : 0.0%\n",
      "position : 0.0%\n",
      "saved : 0.0%\n",
      "conceded : 0.0%\n",
      "saved_penalties : 0.0%\n",
      "cleansheets : 0.0%\n",
      "punches made : 0.0%\n",
      "match_played : 0.0%\n"
     ]
    }
   ],
   "source": [
    "for col in goalkeeping.columns:\n",
    "    pct_missing = np.mean(goalkeeping[col].isnull())\n",
    "    print('{} : {}%'.format(col, pct_missing))"
   ]
  },
  {
   "cell_type": "code",
   "execution_count": 24,
   "id": "63c04745",
   "metadata": {
    "execution": {
     "iopub.execute_input": "2022-06-18T00:01:13.360625Z",
     "iopub.status.busy": "2022-06-18T00:01:13.360133Z",
     "iopub.status.idle": "2022-06-18T00:01:13.371864Z",
     "shell.execute_reply": "2022-06-18T00:01:13.370724Z"
    },
    "papermill": {
     "duration": 0.033173,
     "end_time": "2022-06-18T00:01:13.374602",
     "exception": false,
     "start_time": "2022-06-18T00:01:13.341429",
     "status": "completed"
    },
    "tags": []
   },
   "outputs": [
    {
     "name": "stdout",
     "output_type": "stream",
     "text": [
      "serial : 0.0%\n",
      "player_name : 0.0%\n",
      "club : 0.0%\n",
      "position : 0.0%\n",
      "goals : 0.0%\n",
      "right_foot : 0.0%\n",
      "left_foot : 0.0%\n",
      "headers : 0.0%\n",
      "others : 0.0%\n",
      "inside_area : 0.0%\n",
      "outside_areas : 0.0%\n",
      "penalties : 0.0%\n",
      "match_played : 0.0%\n"
     ]
    }
   ],
   "source": [
    "for col in goals.columns:\n",
    "    pct_missing = np.mean(goals[col].isnull())\n",
    "    print('{} : {}%'.format(col, pct_missing))"
   ]
  },
  {
   "cell_type": "code",
   "execution_count": 25,
   "id": "a1eb2d4d",
   "metadata": {
    "execution": {
     "iopub.execute_input": "2022-06-18T00:01:13.411523Z",
     "iopub.status.busy": "2022-06-18T00:01:13.410789Z",
     "iopub.status.idle": "2022-06-18T00:01:13.420283Z",
     "shell.execute_reply": "2022-06-18T00:01:13.419286Z"
    },
    "papermill": {
     "duration": 0.029895,
     "end_time": "2022-06-18T00:01:13.422171",
     "exception": false,
     "start_time": "2022-06-18T00:01:13.392276",
     "status": "completed"
    },
    "tags": []
   },
   "outputs": [
    {
     "name": "stdout",
     "output_type": "stream",
     "text": [
      "player_name : 0.0%\n",
      "club : 0.0%\n",
      "position : 0.0%\n",
      "minutes_played : 0.0%\n",
      "match_played : 0.0%\n",
      "goals : 0.0%\n",
      "assists : 0.0%\n",
      "distance_covered : 0.0%\n"
     ]
    }
   ],
   "source": [
    "for col in key_stats.columns:\n",
    "    pct_missing = np.mean(key_stats[col].isnull())\n",
    "    print('{} : {}%'.format(col, pct_missing))"
   ]
  },
  {
   "cell_type": "code",
   "execution_count": null,
   "id": "67a26ac8",
   "metadata": {
    "papermill": {
     "duration": 0.018136,
     "end_time": "2022-06-18T00:01:13.457316",
     "exception": false,
     "start_time": "2022-06-18T00:01:13.439180",
     "status": "completed"
    },
    "tags": []
   },
   "outputs": [],
   "source": []
  }
 ],
 "metadata": {
  "kernelspec": {
   "display_name": "Python 3",
   "language": "python",
   "name": "python3"
  },
  "language_info": {
   "codemirror_mode": {
    "name": "ipython",
    "version": 3
   },
   "file_extension": ".py",
   "mimetype": "text/x-python",
   "name": "python",
   "nbconvert_exporter": "python",
   "pygments_lexer": "ipython3",
   "version": "3.7.12"
  },
  "papermill": {
   "default_parameters": {},
   "duration": 19.905063,
   "end_time": "2022-06-18T00:01:14.500182",
   "environment_variables": {},
   "exception": null,
   "input_path": "__notebook__.ipynb",
   "output_path": "__notebook__.ipynb",
   "parameters": {},
   "start_time": "2022-06-18T00:00:54.595119",
   "version": "2.3.4"
  }
 },
 "nbformat": 4,
 "nbformat_minor": 5
}
